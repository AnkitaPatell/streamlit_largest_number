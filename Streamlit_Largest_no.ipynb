{
  "nbformat": 4,
  "nbformat_minor": 0,
  "metadata": {
    "colab": {
      "provenance": [],
      "authorship_tag": "ABX9TyN5X5j2wVO82sE1vZQEEG1b",
      "include_colab_link": true
    },
    "kernelspec": {
      "name": "python3",
      "display_name": "Python 3"
    },
    "language_info": {
      "name": "python"
    }
  },
  "cells": [
    {
      "cell_type": "markdown",
      "metadata": {
        "id": "view-in-github",
        "colab_type": "text"
      },
      "source": [
        "<a href=\"https://colab.research.google.com/github/AnkitaPatell/streamlit_largest_number/blob/main/Streamlit_Largest_no.ipynb\" target=\"_parent\"><img src=\"https://colab.research.google.com/assets/colab-badge.svg\" alt=\"Open In Colab\"/></a>"
      ]
    },
    {
      "cell_type": "code",
      "execution_count": null,
      "metadata": {
        "id": "HMHftWxF-lxw"
      },
      "outputs": [],
      "source": [
        "!pip install streamlit"
      ]
    },
    {
      "cell_type": "code",
      "source": [
        "import streamlit as st"
      ],
      "metadata": {
        "id": "vN12XiX2_ROE"
      },
      "execution_count": 8,
      "outputs": []
    },
    {
      "cell_type": "code",
      "source": [
        "st.title('Calculate Largest among 3 numbers')\n",
        "\n",
        "st.header('_Enter your inputs here:_ ')\n",
        "\n",
        "number1 = st.number_input('Enter first number')\n",
        "number2 = st.number_input('Enter second number')\n",
        "number3 = st.number_input('Enter third number')\n",
        "\n",
        "def maximum():\n",
        "  lis = [number1 , number2 , number3]\n",
        "  a = max(lis)\n",
        "  st.success(f\"Maximum = {a}\")\n",
        "\n",
        "if st.button(\"Calculate result\"):\n",
        "    maximum()"
      ],
      "metadata": {
        "id": "XXx3H5Iv-x-i"
      },
      "execution_count": null,
      "outputs": []
    }
  ]
}